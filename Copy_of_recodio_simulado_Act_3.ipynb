{
  "nbformat": 4,
  "nbformat_minor": 0,
  "metadata": {
    "colab": {
      "provenance": []
    },
    "kernelspec": {
      "name": "python3",
      "display_name": "Python 3"
    },
    "language_info": {
      "name": "python"
    }
  },
  "cells": [
    {
      "cell_type": "code",
      "source": [
        "import numpy as np\n",
        "\n",
        "# f(x) = cos(ax) + bx - cx^2 + d\n",
        "def funcion_objetivo(x, theta):\n",
        "    # Parámetros theta en a, b, c, d\n",
        "    a, b, c, d = theta\n",
        "    # CalculaR el valor de la función objetivo para un valor x dado y parámetros theta\n",
        "    return np.cos(a * x) + b * x - c * x**2 + d\n",
        "\n",
        "# Evaluar la solución comparando la salida de la función objetivo con los datos y reales\n",
        "def evaluar_solucion(x_data, y_data, theta):\n",
        "    # Generar predicciones de y usando la función objetivo y los parámetros theta\n",
        "    y_pred = funcion_objetivo(x_data, theta)\n",
        "    # Calcular el error como la diferencia absoluta entre y_pred y y_data\n",
        "    error = np.abs(y_pred - y_data)\n",
        "    # Retornar el error máximo\n",
        "    return np.max(error)\n",
        "\n",
        "# Generar una solución inicial aleatoria para los parámetros theta\n",
        "def solucion_inicial():\n",
        "  # Devolver un arreglo de 4 enteros aleatorios entre 0 y 15\n",
        "    return np.random.randint(0, 16, size=4)\n",
        "\n",
        "# Generar una lista de \"vecinos\" o soluciones cercanas a la actual\n",
        "def generar_vecinos(theta):\n",
        "    vecinos = []\n",
        "    for i in range(4):  # Para cada parámetro (a, b, c, d)\n",
        "    # Si el parámetro es mayor que 0, crea un vecino disminuyendo su valor\n",
        "        if theta[i] > 0:\n",
        "            vecino_menor = theta.copy()\n",
        "            vecino_menor[i] -= 1\n",
        "            vecinos.append(vecino_menor)\n",
        "    # Si el parámetro es menor que 15, crea un vecino aumentando su valor\n",
        "        if theta[i] < 15:\n",
        "            vecino_mayor = theta.copy()\n",
        "            vecino_mayor[i] += 1\n",
        "            vecinos.append(vecino_mayor)\n",
        "    return vecinos\n",
        "\n",
        "def recocido_simulado(x_data, y_data, temp_inicial, enfriamiento, iteraciones):\n",
        "  # Obtener una solución inicial aleatoria\n",
        "    theta = solucion_inicial()\n",
        "  # Inicializar la mejor solución encontrada con la solución inicial\n",
        "    mejor_theta = theta\n",
        "  # Evaluar la solución inicial y establece como el mejor error\n",
        "    mejor_error = evaluar_solucion(x_data, y_data, theta)\n",
        "  # Establecer la temperatura inicial del algoritmo\n",
        "    temperatura = temp_inicial\n",
        "\n",
        "    for i in range(iteraciones):\n",
        "      # Generar vecinos de la solución actual\n",
        "        vecinos = generar_vecinos(theta)\n",
        "     # Seleccionar un vecino al azar\n",
        "        vecino = vecinos[np.random.randint(len(vecinos))]\n",
        "      # Evaluar la nueva solución vecina\n",
        "        error_vecino = evaluar_solucion(x_data, y_data, vecino)\n",
        "\n",
        "# Decidir si acepta la nueva solución basado en el error y la temperatura\n",
        "        if error_vecino < mejor_error or np.random.rand() < np.exp((mejor_error - error_vecino) / temperatura):\n",
        "           # Actualizar la solución y el mejor error si se encuentra una mejor o por probabilidad\n",
        "            theta = vecino\n",
        "            mejor_error = error_vecino\n",
        "            mejor_theta = vecino\n",
        "\n",
        "# Enfriar el sistema reduciendo la temperatura\n",
        "        temperatura *= enfriamiento\n",
        "\n",
        "        if temperatura < 1e-3:  # Evita enfriamiento infinito\n",
        "            break\n",
        "\n",
        "    return mejor_theta, mejor_error\n",
        "\n",
        "# Datos\n",
        "x_data = np.array([0.1, 0.2, 0.3, 0.4, 0.5, 0.6, 0.7, 0.8, 0.9, 1.0])\n",
        "y_data = np.array([1.0, 1.0, 2.0, 4.0, 5.0, 4.0, 4.0, 5.0, 6.0, 5.0])\n",
        "\n",
        "# Parámetros\n",
        "temp_inicial = 100\n",
        "enfriamiento = 0.95\n",
        "iteraciones = 10000\n",
        "\n",
        "theta_optima, error_optimo = recocido_simulado(x_data, y_data, temp_inicial, enfriamiento, iteraciones)\n",
        "\n",
        "# Imprimir resultados\n",
        "print(\"Parámetros óptimos:\", theta_optima)\n",
        "print(\"Error máximo absoluto:\", error_optimo)\n"
      ],
      "metadata": {
        "colab": {
          "base_uri": "https://localhost:8080/"
        },
        "id": "MCSyPGJQ1cJR",
        "outputId": "17b7e1ed-a46a-4bbc-bfbf-685543e36e8e"
      },
      "execution_count": null,
      "outputs": [
        {
          "output_type": "stream",
          "name": "stdout",
          "text": [
            "Parámetros óptimos: [14 10  7  1]\n",
            "Error máximo absoluto: 1.0999671429002404\n"
          ]
        }
      ]
    },
    {
      "cell_type": "markdown",
      "source": [
        "# Conclusiones:\n",
        " El algoritmo de recocido simulado nos proporcionó una aproximación efectiva para encontrar una combinación de parámetros que minimizan el error máximo absoluto entre los datos observados y los valores predichos por el modelo.\n",
        "\n",
        " Los parámetros óptimos encontrados fueron  7, 14, 10 y 0, estos permiten que la función objetivo se ajuste bien a los datos experimentales con un error aceptable.\n",
        "\n",
        " La técnica de enfriamiento gradual resultó ser una estrategia adecuada para escapar de mínimos locales y explorar el espacio de soluciones de manera más eficiente.\n",
        "\n",
        "Tuvimos algunas dificulades durante el proceso como por ejemplo, elegir los parámetros adecuados para la temperatura inicial, la tasa de enfriamiento y el número de iteraciones. Tambien batallamos en garantizar la convergencia del algoritmo si la función objetivo tiene muchos mínimos locales, especialmente si la temperatura se reduce demasiado rápido.\n",
        "\n"
      ],
      "metadata": {
        "id": "KsA4wJQ6o2Hz"
      }
    }
  ]
}
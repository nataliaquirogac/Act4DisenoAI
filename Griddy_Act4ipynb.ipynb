{
  "nbformat": 4,
  "nbformat_minor": 0,
  "metadata": {
    "colab": {
      "provenance": []
    },
    "kernelspec": {
      "name": "python3",
      "display_name": "Python 3"
    },
    "language_info": {
      "name": "python"
    }
  },
  "cells": [
    {
      "cell_type": "markdown",
      "source": [
        "Act 4\n",
        "- Natalia Quiroga A01722353\n",
        "- Paula de Alba A01722262\n",
        "-  Carolina Treviño García A00835598"
      ],
      "metadata": {
        "id": "-Ot-m-L2rWko"
      }
    },
    {
      "cell_type": "code",
      "execution_count": 9,
      "metadata": {
        "id": "4u4TjaDq0wos",
        "outputId": "be8cd36a-b475-4f58-a515-76c9d6591219",
        "colab": {
          "base_uri": "https://localhost:8080/"
        }
      },
      "outputs": [
        {
          "output_type": "stream",
          "name": "stdout",
          "text": [
            "Parámetros óptimos: [ 8 11  8  1], Error: 1.8508004776987113\n"
          ]
        }
      ],
      "source": [
        "import numpy as np\n",
        "#implementamos la funcion\n",
        "def f(x, theta):\n",
        "    a, b, c, d = theta\n",
        "    return np.cos(a * x) + b * x - c * x**2 + d\n",
        "#evaluar la solucion\n",
        "def evaluar_solucion(x, y, theta):\n",
        "    pred = f(x, theta)\n",
        "    error = np.abs(pred - y)\n",
        "    return np.max(error)\n",
        "\n",
        "def generar_solucion_inicial():\n",
        "    return np.random.randint(0, 16, size=4)\n",
        "#generar vecinos\n",
        "def generar_vecinos(theta):\n",
        "    vecinos = []\n",
        "    for i in range(len(theta)):\n",
        "        if theta[i] > 0:\n",
        "            vecino = theta.copy()\n",
        "            vecino[i] -= 1\n",
        "            vecinos.append(vecino)\n",
        "        if theta[i] < 15:\n",
        "            vecino = theta.copy()\n",
        "            vecino[i] += 1\n",
        "            vecinos.append(vecino)\n",
        "    return vecinos\n",
        "#implementar algortimo de hill climbing\n",
        "def hill_climbing(x, y, iteraciones=1000):\n",
        "    theta_actual = generar_solucion_inicial()\n",
        "    error_actual = evaluar_solucion(x, y, theta_actual)\n",
        "\n",
        "    for _ in range(iteraciones):\n",
        "        vecinos = generar_vecinos(theta_actual)\n",
        "        for vecino in vecinos:\n",
        "            error_vecino = evaluar_solucion(x, y, vecino)\n",
        "            if error_vecino < error_actual:\n",
        "                theta_actual = vecino\n",
        "                error_actual = error_vecino\n",
        "    return theta_actual, error_actual\n",
        "\n",
        "# Datos\n",
        "x = np.array([0.1, 0.2, 0.3, 0.4, 0.5, 0.6, 0.7, 0.8, 0.9, 1.0])\n",
        "y = np.array([1.0, 1.0, 2.0, 4.0, 5.0, 4.0, 4.0, 5.0, 6.0, 5.0])\n",
        "\n",
        "\n",
        "theta_optimo, error_optimo = hill_climbing(x, y)\n",
        "print(f\"Parámetros óptimos: {theta_optimo}, Error: {error_optimo}\")\n"
      ]
    },
    {
      "cell_type": "markdown",
      "source": [
        "\n",
        "\n",
        "*   [7 0 5 5 ], error= 4.715\n",
        "*   [13 4 7 4], error = 3.597\n",
        "\n",
        "\n",
        "*   [13 7 12 5], error= 4.847\n",
        "*   [6 4 10 5], error = 5.125\n",
        "\n",
        "\n",
        "*   [7 13 12 1], error: 2.289\n",
        "*   [8 0 0 3] , error: 2.697\n",
        "\n",
        "\n",
        "\n",
        "*   [8 9 14 5], error: 5.456\n",
        "*   [8 11 8 1], error: 1.851\n",
        "\n",
        "\n",
        "\n",
        "\n",
        "\n",
        "\n",
        "\n",
        "\n"
      ],
      "metadata": {
        "id": "C60W9snAr4F4"
      }
    },
    {
      "cell_type": "markdown",
      "source": [
        "El algortimo es una modelacion entre las variables independentienes (x),\n",
        "y los parametreos (theta) para predecir un valor. La funcion es trigonometrica con polinomios de segundo grado. priemro se genera un vector inicial de parametros (theta) de manera aleatoria en un rango de 0 a 15. Se utiliza el algortimo de hill climbing para iterar los pasos de generacion de vecinos y la evaluacion de soluciones encontradas en el parametro para minimizar el error. el algoritmo se basa en remplazar la solucion actual por una vecina si y solos si la vecina produce un error menor. el proceso se acaba cuando el algortimo encuentra los parametros que resultaron en el menor error encontrado."
      ],
      "metadata": {
        "id": "szjOBDeDz0wk"
      }
    },
    {
      "cell_type": "markdown",
      "source": [
        "los outputs que conseguimos despues de varias iteraciones fueron los que se encuentran desplegados arriba. podemos concluir que le conjunto [8 , 11, 8, 1] fue el conjunto con el menor error de 1.851. dicho esto, es el mejor parametro para modelar la funcion f."
      ],
      "metadata": {
        "id": "tflZdGlV0hoF"
      }
    },
    {
      "cell_type": "markdown",
      "source": [
        "en conclusion, gracias a esete algortimo pudimos ver la optimizacion de ajuste de parametros de un modelo matematico. sin embargo, el hill climbing se puede quedar atrapado en un minimo local y no encontrar el minimo global."
      ],
      "metadata": {
        "id": "PYnVqk1W00Wm"
      }
    },
    {
      "cell_type": "code",
      "source": [],
      "metadata": {
        "id": "T8vNUT8S0_4W"
      },
      "execution_count": null,
      "outputs": []
    }
  ]
}